{
 "cells": [
  {
   "cell_type": "markdown",
   "metadata": {
    "colab_type": "text",
    "id": "5K6xQ_mFbt7B"
   },
   "source": [
    "<h1>Soal 1: Pemahaman Algoritma</h1>\n",
    "\n",
    "Jawab Pertanyaan di bawah ini dengan penyampaian bahasa sendiri!\n",
    "\n",
    "1. Bagaimana proses algoritma KNN?\n",
    "2. Jelaskan minimal 2 kekurangan dari algoritma KNN?"
   ]
  },
  {
   "cell_type": "markdown",
   "metadata": {
    "colab_type": "text",
    "id": "00A5KWAygagM"
   },
   "source": [
    "Jawab:\n",
    "1. Algoritma KNN adalah singkatan dari K-Nearest Neaighbour yang mana K adalah jumlah tetangga. Algoritma ini bekerja dengan cara menghitung Eucledian Distance antara data yang akan diprediksi dengan tetangganya sejumlah K dan akan melakukan klasifikasi data kedalam jumlah K terbanyak\n",
    "2. - Sensitif terhadap data pencilan\n",
    "   - Jika jumlah K sama maka algoritma akan bingung dan akan menentukan klasifikasi secara random"
   ]
  },
  {
   "cell_type": "code",
   "execution_count": 2,
   "metadata": {},
   "outputs": [
    {
     "data": {
      "text/html": [
       "<div>\n",
       "<style scoped>\n",
       "    .dataframe tbody tr th:only-of-type {\n",
       "        vertical-align: middle;\n",
       "    }\n",
       "\n",
       "    .dataframe tbody tr th {\n",
       "        vertical-align: top;\n",
       "    }\n",
       "\n",
       "    .dataframe thead th {\n",
       "        text-align: right;\n",
       "    }\n",
       "</style>\n",
       "<table border=\"1\" class=\"dataframe\">\n",
       "  <thead>\n",
       "    <tr style=\"text-align: right;\">\n",
       "      <th></th>\n",
       "      <th>alcohol</th>\n",
       "      <th>malic_acid</th>\n",
       "      <th>ash</th>\n",
       "      <th>alcalinity_of_ash</th>\n",
       "      <th>magnesium</th>\n",
       "      <th>total_phenols</th>\n",
       "      <th>flavanoids</th>\n",
       "      <th>nonflavanoid_phenols</th>\n",
       "      <th>proanthocyanins</th>\n",
       "      <th>color_intensity</th>\n",
       "      <th>hue</th>\n",
       "      <th>od280/od315_of_diluted_wines</th>\n",
       "      <th>proline</th>\n",
       "      <th>class</th>\n",
       "    </tr>\n",
       "  </thead>\n",
       "  <tbody>\n",
       "    <tr>\n",
       "      <th>0</th>\n",
       "      <td>14.23</td>\n",
       "      <td>1.71</td>\n",
       "      <td>2.43</td>\n",
       "      <td>15.6</td>\n",
       "      <td>127.0</td>\n",
       "      <td>2.80</td>\n",
       "      <td>3.06</td>\n",
       "      <td>0.28</td>\n",
       "      <td>2.29</td>\n",
       "      <td>5.64</td>\n",
       "      <td>1.04</td>\n",
       "      <td>3.92</td>\n",
       "      <td>1065.0</td>\n",
       "      <td>0.0</td>\n",
       "    </tr>\n",
       "    <tr>\n",
       "      <th>1</th>\n",
       "      <td>13.20</td>\n",
       "      <td>1.78</td>\n",
       "      <td>2.14</td>\n",
       "      <td>11.2</td>\n",
       "      <td>100.0</td>\n",
       "      <td>2.65</td>\n",
       "      <td>2.76</td>\n",
       "      <td>0.26</td>\n",
       "      <td>1.28</td>\n",
       "      <td>4.38</td>\n",
       "      <td>1.05</td>\n",
       "      <td>3.40</td>\n",
       "      <td>1050.0</td>\n",
       "      <td>0.0</td>\n",
       "    </tr>\n",
       "    <tr>\n",
       "      <th>2</th>\n",
       "      <td>13.16</td>\n",
       "      <td>2.36</td>\n",
       "      <td>2.67</td>\n",
       "      <td>18.6</td>\n",
       "      <td>101.0</td>\n",
       "      <td>2.80</td>\n",
       "      <td>3.24</td>\n",
       "      <td>0.30</td>\n",
       "      <td>2.81</td>\n",
       "      <td>5.68</td>\n",
       "      <td>1.03</td>\n",
       "      <td>3.17</td>\n",
       "      <td>1185.0</td>\n",
       "      <td>0.0</td>\n",
       "    </tr>\n",
       "    <tr>\n",
       "      <th>3</th>\n",
       "      <td>14.37</td>\n",
       "      <td>1.95</td>\n",
       "      <td>2.50</td>\n",
       "      <td>16.8</td>\n",
       "      <td>113.0</td>\n",
       "      <td>3.85</td>\n",
       "      <td>3.49</td>\n",
       "      <td>0.24</td>\n",
       "      <td>2.18</td>\n",
       "      <td>7.80</td>\n",
       "      <td>0.86</td>\n",
       "      <td>3.45</td>\n",
       "      <td>1480.0</td>\n",
       "      <td>0.0</td>\n",
       "    </tr>\n",
       "    <tr>\n",
       "      <th>4</th>\n",
       "      <td>13.24</td>\n",
       "      <td>2.59</td>\n",
       "      <td>2.87</td>\n",
       "      <td>21.0</td>\n",
       "      <td>118.0</td>\n",
       "      <td>2.80</td>\n",
       "      <td>2.69</td>\n",
       "      <td>0.39</td>\n",
       "      <td>1.82</td>\n",
       "      <td>4.32</td>\n",
       "      <td>1.04</td>\n",
       "      <td>2.93</td>\n",
       "      <td>735.0</td>\n",
       "      <td>0.0</td>\n",
       "    </tr>\n",
       "    <tr>\n",
       "      <th>...</th>\n",
       "      <td>...</td>\n",
       "      <td>...</td>\n",
       "      <td>...</td>\n",
       "      <td>...</td>\n",
       "      <td>...</td>\n",
       "      <td>...</td>\n",
       "      <td>...</td>\n",
       "      <td>...</td>\n",
       "      <td>...</td>\n",
       "      <td>...</td>\n",
       "      <td>...</td>\n",
       "      <td>...</td>\n",
       "      <td>...</td>\n",
       "      <td>...</td>\n",
       "    </tr>\n",
       "    <tr>\n",
       "      <th>173</th>\n",
       "      <td>13.71</td>\n",
       "      <td>5.65</td>\n",
       "      <td>2.45</td>\n",
       "      <td>20.5</td>\n",
       "      <td>95.0</td>\n",
       "      <td>1.68</td>\n",
       "      <td>0.61</td>\n",
       "      <td>0.52</td>\n",
       "      <td>1.06</td>\n",
       "      <td>7.70</td>\n",
       "      <td>0.64</td>\n",
       "      <td>1.74</td>\n",
       "      <td>740.0</td>\n",
       "      <td>2.0</td>\n",
       "    </tr>\n",
       "    <tr>\n",
       "      <th>174</th>\n",
       "      <td>13.40</td>\n",
       "      <td>3.91</td>\n",
       "      <td>2.48</td>\n",
       "      <td>23.0</td>\n",
       "      <td>102.0</td>\n",
       "      <td>1.80</td>\n",
       "      <td>0.75</td>\n",
       "      <td>0.43</td>\n",
       "      <td>1.41</td>\n",
       "      <td>7.30</td>\n",
       "      <td>0.70</td>\n",
       "      <td>1.56</td>\n",
       "      <td>750.0</td>\n",
       "      <td>2.0</td>\n",
       "    </tr>\n",
       "    <tr>\n",
       "      <th>175</th>\n",
       "      <td>13.27</td>\n",
       "      <td>4.28</td>\n",
       "      <td>2.26</td>\n",
       "      <td>20.0</td>\n",
       "      <td>120.0</td>\n",
       "      <td>1.59</td>\n",
       "      <td>0.69</td>\n",
       "      <td>0.43</td>\n",
       "      <td>1.35</td>\n",
       "      <td>10.20</td>\n",
       "      <td>0.59</td>\n",
       "      <td>1.56</td>\n",
       "      <td>835.0</td>\n",
       "      <td>2.0</td>\n",
       "    </tr>\n",
       "    <tr>\n",
       "      <th>176</th>\n",
       "      <td>13.17</td>\n",
       "      <td>2.59</td>\n",
       "      <td>2.37</td>\n",
       "      <td>20.0</td>\n",
       "      <td>120.0</td>\n",
       "      <td>1.65</td>\n",
       "      <td>0.68</td>\n",
       "      <td>0.53</td>\n",
       "      <td>1.46</td>\n",
       "      <td>9.30</td>\n",
       "      <td>0.60</td>\n",
       "      <td>1.62</td>\n",
       "      <td>840.0</td>\n",
       "      <td>2.0</td>\n",
       "    </tr>\n",
       "    <tr>\n",
       "      <th>177</th>\n",
       "      <td>14.13</td>\n",
       "      <td>4.10</td>\n",
       "      <td>2.74</td>\n",
       "      <td>24.5</td>\n",
       "      <td>96.0</td>\n",
       "      <td>2.05</td>\n",
       "      <td>0.76</td>\n",
       "      <td>0.56</td>\n",
       "      <td>1.35</td>\n",
       "      <td>9.20</td>\n",
       "      <td>0.61</td>\n",
       "      <td>1.60</td>\n",
       "      <td>560.0</td>\n",
       "      <td>2.0</td>\n",
       "    </tr>\n",
       "  </tbody>\n",
       "</table>\n",
       "<p>178 rows × 14 columns</p>\n",
       "</div>"
      ],
      "text/plain": [
       "     alcohol  malic_acid   ash  alcalinity_of_ash  magnesium  total_phenols  \\\n",
       "0      14.23        1.71  2.43               15.6      127.0           2.80   \n",
       "1      13.20        1.78  2.14               11.2      100.0           2.65   \n",
       "2      13.16        2.36  2.67               18.6      101.0           2.80   \n",
       "3      14.37        1.95  2.50               16.8      113.0           3.85   \n",
       "4      13.24        2.59  2.87               21.0      118.0           2.80   \n",
       "..       ...         ...   ...                ...        ...            ...   \n",
       "173    13.71        5.65  2.45               20.5       95.0           1.68   \n",
       "174    13.40        3.91  2.48               23.0      102.0           1.80   \n",
       "175    13.27        4.28  2.26               20.0      120.0           1.59   \n",
       "176    13.17        2.59  2.37               20.0      120.0           1.65   \n",
       "177    14.13        4.10  2.74               24.5       96.0           2.05   \n",
       "\n",
       "     flavanoids  nonflavanoid_phenols  proanthocyanins  color_intensity   hue  \\\n",
       "0          3.06                  0.28             2.29             5.64  1.04   \n",
       "1          2.76                  0.26             1.28             4.38  1.05   \n",
       "2          3.24                  0.30             2.81             5.68  1.03   \n",
       "3          3.49                  0.24             2.18             7.80  0.86   \n",
       "4          2.69                  0.39             1.82             4.32  1.04   \n",
       "..          ...                   ...              ...              ...   ...   \n",
       "173        0.61                  0.52             1.06             7.70  0.64   \n",
       "174        0.75                  0.43             1.41             7.30  0.70   \n",
       "175        0.69                  0.43             1.35            10.20  0.59   \n",
       "176        0.68                  0.53             1.46             9.30  0.60   \n",
       "177        0.76                  0.56             1.35             9.20  0.61   \n",
       "\n",
       "     od280/od315_of_diluted_wines  proline  class  \n",
       "0                            3.92   1065.0    0.0  \n",
       "1                            3.40   1050.0    0.0  \n",
       "2                            3.17   1185.0    0.0  \n",
       "3                            3.45   1480.0    0.0  \n",
       "4                            2.93    735.0    0.0  \n",
       "..                            ...      ...    ...  \n",
       "173                          1.74    740.0    2.0  \n",
       "174                          1.56    750.0    2.0  \n",
       "175                          1.56    835.0    2.0  \n",
       "176                          1.62    840.0    2.0  \n",
       "177                          1.60    560.0    2.0  \n",
       "\n",
       "[178 rows x 14 columns]"
      ]
     },
     "execution_count": 2,
     "metadata": {},
     "output_type": "execute_result"
    }
   ],
   "source": [
    "from sklearn.datasets import load_wine\n",
    "import pandas as pd\n",
    "import numpy as np\n",
    "wine = load_wine()\n",
    "df = pd.DataFrame(np.c_[wine['data'], wine['target']], columns= wine['feature_names'] + ['class'])\n",
    "df"
   ]
  },
  {
   "cell_type": "markdown",
   "metadata": {
    "colab_type": "text",
    "id": "UDvanK5pgcnF"
   },
   "source": [
    "---"
   ]
  },
  {
   "cell_type": "markdown",
   "metadata": {
    "colab_type": "text",
    "id": "VsHxDJ4jbt7P"
   },
   "source": [
    "<h1>Soal 2: Pengaplikasian Algoritma KNN</h1>\n",
    "\n",
    "- Buatlah model KNN\n",
    "- Training model tersebut kepada data X_train dengan hyperparameter kombinasi antara  2<= k <=20 dan weights bernilai 'uniform', dan 'distance'  \n",
    "- Lakukan prediksi terhadap data X_test untuk model di setiap kombinasi k dan weights\n",
    "- Score dengan accuracy dari hasil prediksi terhadap data X_test untuk setiap kombinasi hyperparameter, masukan score tersebut ke dalam objek list dengan di groupkan berdasarkan jenis weights, sehingga di akhir kita punya variable misalkan list_uniform_score, dan list_distance_score\n",
    "- Plot kedua list tersebut dengan lineplot kedalam satu axis dan bandingkan hasilnya"
   ]
  },
  {
   "cell_type": "code",
   "execution_count": 51,
   "metadata": {},
   "outputs": [
    {
     "name": "stdout",
     "output_type": "stream",
     "text": [
      "Uniform Scores:\n"
     ]
    },
    {
     "data": {
      "text/plain": [
       "[0.6944444444444444,\n",
       " 0.8055555555555556,\n",
       " 0.7222222222222222,\n",
       " 0.6666666666666666,\n",
       " 0.6388888888888888,\n",
       " 0.75,\n",
       " 0.6388888888888888,\n",
       " 0.6944444444444444,\n",
       " 0.6944444444444444,\n",
       " 0.7222222222222222,\n",
       " 0.6388888888888888,\n",
       " 0.6666666666666666,\n",
       " 0.6388888888888888,\n",
       " 0.6666666666666666,\n",
       " 0.6111111111111112,\n",
       " 0.6666666666666666,\n",
       " 0.6388888888888888,\n",
       " 0.6666666666666666,\n",
       " 0.6111111111111112]"
      ]
     },
     "metadata": {},
     "output_type": "display_data"
    },
    {
     "name": "stdout",
     "output_type": "stream",
     "text": [
      "Distance Scores:\n"
     ]
    },
    {
     "data": {
      "text/plain": [
       "[0.75,\n",
       " 0.8333333333333334,\n",
       " 0.7777777777777778,\n",
       " 0.75,\n",
       " 0.7222222222222222,\n",
       " 0.75,\n",
       " 0.6944444444444444,\n",
       " 0.7222222222222222,\n",
       " 0.6944444444444444,\n",
       " 0.6944444444444444,\n",
       " 0.6944444444444444,\n",
       " 0.6944444444444444,\n",
       " 0.6944444444444444,\n",
       " 0.6666666666666666,\n",
       " 0.6666666666666666,\n",
       " 0.6666666666666666,\n",
       " 0.6666666666666666,\n",
       " 0.6666666666666666,\n",
       " 0.6666666666666666]"
      ]
     },
     "metadata": {},
     "output_type": "display_data"
    }
   ],
   "source": [
    "from sklearn.neighbors import KNeighborsClassifier\n",
    "from sklearn.metrics import accuracy_score\n",
    "list_uniform_score=[]\n",
    "list_distance_score=[]\n",
    "for i in range(2, 21):\n",
    "    clf_uniform=KNeighborsClassifier(n_neighbors=i, weights='uniform')\n",
    "    clf_distance=KNeighborsClassifier(n_neighbors=i, weights='distance')\n",
    "    clf_uniform.fit(X_train, y_train)\n",
    "    clf_distance.fit(X_train, y_train)\n",
    "    y_pred_uniform=clf_uniform.predict(X_test)\n",
    "    y_pred_distance=clf_distance.predict(X_test)\n",
    "    acuracy_uniform=accuracy_score(y_test, y_pred_uniform)\n",
    "    acuracy_distance=accuracy_score(y_test, y_pred_distance)\n",
    "    list_uniform_score.append(acuracy_uniform)\n",
    "    list_distance_score.append(acuracy_distance)\n",
    "print(\"Uniform Scores:\")\n",
    "display(list_uniform_score)\n",
    "print(\"Distance Scores:\")\n",
    "display(list_distance_score)"
   ]
  },
  {
   "cell_type": "code",
   "execution_count": 68,
   "metadata": {},
   "outputs": [
    {
     "data": {
      "image/png": "[encoded data removed]",
      "text/plain": [
       "<Figure size 1008x576 with 1 Axes>"
      ]
     },
     "metadata": {
      "needs_background": "light"
     },
     "output_type": "display_data"
    }
   ],
   "source": [
    "import matplotlib.pyplot as plt\n",
    "\n",
    "fig, ax = plt.subplots(figsize=(14,8))\n",
    "data_x = np.arange(2,21)\n",
    "data_y1 = list_uniform_score\n",
    "data_y2 = list_distance_score\n",
    "ax.plot(data_x, data_y1, marker='o', label='Uniform Score')\n",
    "ax.plot(data_x, data_y2, marker='o', label='Distannce Score')\n",
    "ax.set_xlabel('K-Value')\n",
    "ax.set_ylabel('Scores')\n",
    "ax.set_title('Accuracy : Uniform Scores vs Distance Scores')\n",
    "plt.legend()\n",
    "plt.show()"
   ]
  },
  {
   "cell_type": "markdown",
   "metadata": {
    "colab_type": "text",
    "id": "9IRv63G0bt8T"
   },
   "source": [
    "Contoh hasil yang di harapkan :\n",
    "\n",
    "\n",
    "```\n",
    "Uniform Scores:\n",
    "[0.6944444444444444,\n",
    " 0.8055555555555556,\n",
    " 0.7222222222222222,\n",
    " 0.6666666666666666,\n",
    " 0.6388888888888888,\n",
    " 0.75,\n",
    " 0.6388888888888888,\n",
    " 0.6944444444444444,\n",
    " 0.6944444444444444,\n",
    " 0.7222222222222222,\n",
    " 0.6388888888888888,\n",
    " 0.6666666666666666,\n",
    " 0.6388888888888888,\n",
    " 0.6666666666666666,\n",
    " 0.6111111111111112,\n",
    " 0.6666666666666666,\n",
    " 0.6388888888888888,\n",
    " 0.6666666666666666,\n",
    " 0.6111111111111112]\n",
    "\n",
    "Distance scores:\n",
    "[0.75,\n",
    " 0.8333333333333334,\n",
    " 0.7777777777777778,\n",
    " 0.75,\n",
    " 0.7222222222222222,\n",
    " 0.75,\n",
    " 0.6944444444444444,\n",
    " 0.7222222222222222,\n",
    " 0.6944444444444444,\n",
    " 0.6944444444444444,\n",
    " 0.6944444444444444,\n",
    " 0.6944444444444444,\n",
    " 0.6944444444444444,\n",
    " 0.6666666666666666,\n",
    " 0.6666666666666666,\n",
    " 0.6666666666666666,\n",
    " 0.6666666666666666,\n",
    " 0.6666666666666666,\n",
    " 0.6666666666666666]\n",
    "```\n",
    "\n",
    "\n",
    "\n",
    " \n",
    "\n",
    "\n",
    "![alt text](https://drive.google.com/uc?id=1pppy_BWQsg5tdgOBEU1GgiHSklLLoimt)"
   ]
  },
  {
   "cell_type": "markdown",
   "metadata": {
    "colab_type": "text",
    "id": "UnInuMmFgfQp"
   },
   "source": [
    "---"
   ]
  },
  {
   "cell_type": "markdown",
   "metadata": {
    "colab_type": "text",
    "id": "1xGA6Usmbt8b"
   },
   "source": [
    "<h1>Soal 3: Pengaplikasian Model Linear Regression</h1>\n",
    "\n",
    "Applikasikan model linear regresi kedalam data berikut. Kemudian tunjukan parameter koefesien dan intercept dari model tersebut."
   ]
  },
  {
   "cell_type": "code",
   "execution_count": 40,
   "metadata": {
    "colab": {},
    "colab_type": "code",
    "id": "IEsbrAiybt8i"
   },
   "outputs": [],
   "source": [
    "import numpy as np\n",
    "\n",
    "rng = np.random.RandomState(1)\n",
    "\n",
    "ox = 10 * rng.rand(50, 4)\n",
    "oy = np.array([  0.9826564 ,  49.40390035,  85.76013175,  29.17254633,\n",
    "        11.270054  ,  61.53852735, -19.52503854,  10.10230867,\n",
    "        82.03058206,  45.72660678,  82.09252575,  90.78872391,\n",
    "        67.94178098,  39.97492762, 124.78866966,  85.24615819,\n",
    "        85.68491086,  80.39481211,  14.54591581, 137.19722354,\n",
    "        85.04063428,  94.76681927,  84.64289989,  38.76421156,\n",
    "        47.33953927,  94.50853335,  77.3276567 ,  -9.77846805,\n",
    "        61.13434468,  42.12124052,  26.65634335, 120.41593333,\n",
    "       138.08132504, 103.33745675, 145.64447692,  19.54777986,\n",
    "        87.40631024, 111.47327389,  95.94874761, 146.34817502,\n",
    "       118.10333528,  56.85956484, 108.57660235, 114.30790247,\n",
    "        40.27107041,  73.83871008,  45.52217182,  -7.57752547,\n",
    "       147.81772162, 139.40285349])\n"
   ]
  },
  {
   "cell_type": "code",
   "execution_count": null,
   "metadata": {},
   "outputs": [],
   "source": []
  },
  {
   "cell_type": "code",
   "execution_count": 41,
   "metadata": {},
   "outputs": [],
   "source": [
    "import pandas as pd\n",
    "import matplotlib.pyplot as plt\n",
    "from sklearn.linear_model import LinearRegression\n",
    "from sklearn.model_selection import train_test_split\n",
    "\n",
    "model_lr2 = LinearRegression(fit_intercept=True)"
   ]
  },
  {
   "cell_type": "code",
   "execution_count": 42,
   "metadata": {},
   "outputs": [
    {
     "data": {
      "text/plain": [
       "LinearRegression()"
      ]
     },
     "execution_count": 42,
     "metadata": {},
     "output_type": "execute_result"
    }
   ],
   "source": [
    "model_lr2.fit(ox, oy)"
   ]
  },
  {
   "cell_type": "code",
   "execution_count": 29,
   "metadata": {},
   "outputs": [],
   "source": [
    "y_prdict = model_lr2.predict(X)"
   ]
  },
  {
   "cell_type": "code",
   "execution_count": 39,
   "metadata": {},
   "outputs": [
    {
     "data": {
      "text/plain": [
       "array([ 1.5, -5. ,  9. , 10. ])"
      ]
     },
     "execution_count": 39,
     "metadata": {},
     "output_type": "execute_result"
    }
   ],
   "source": [
    "model_lr2.coef_"
   ]
  },
  {
   "cell_type": "code",
   "execution_count": 31,
   "metadata": {},
   "outputs": [
    {
     "data": {
      "text/plain": [
       "0.5000000016247981"
      ]
     },
     "execution_count": 31,
     "metadata": {},
     "output_type": "execute_result"
    }
   ],
   "source": [
    "model_lr2.intercept_"
   ]
  }
 ],
 "metadata": {
  "colab": {
   "collapsed_sections": [],
   "name": "Tugas Hari 2 Pekan 4.ipynb",
   "provenance": []
  },
  "kernelspec": {
   "display_name": "Python 3",
   "language": "python",
   "name": "python3"
  },
  "language_info": {
   "codemirror_mode": {
    "name": "ipython",
    "version": 3
   },
   "file_extension": ".py",
   "mimetype": "text/x-python",
   "name": "python",
   "nbconvert_exporter": "python",
   "pygments_lexer": "ipython3",
   "version": "3.8.3"
  }
 },
 "nbformat": 4,
 "nbformat_minor": 1
}
