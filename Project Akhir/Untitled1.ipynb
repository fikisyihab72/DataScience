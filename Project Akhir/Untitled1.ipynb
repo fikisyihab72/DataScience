{
 "cells": [
  {
   "cell_type": "code",
   "execution_count": 1,
   "metadata": {},
   "outputs": [],
   "source": [
    "import pandas as pd\n",
    "import numpy as np\n",
    "data_test_awal = pd.read_csv('test.csv')\n",
    "data_train_awal = pd.read_csv('train.csv')\n"
   ]
  },
  {
   "cell_type": "code",
   "execution_count": 2,
   "metadata": {},
   "outputs": [],
   "source": [
    "data_test = data_test_awal.replace('?', np.nan)\n",
    "data_train = data_train_awal.replace('?', np.nan)"
   ]
  },
  {
   "cell_type": "code",
   "execution_count": 3,
   "metadata": {},
   "outputs": [
    {
     "data": {
      "text/plain": [
       "id                                          8\n",
       "Umur                                       23\n",
       "Kelas Pekerja                             NaN\n",
       "Berat Akhir                            191910\n",
       "Pendidikan                  Pendidikan Tinggi\n",
       "Jmlh Tahun Pendidikan                      10\n",
       "Status Perkawinan        Belum Pernah Menikah\n",
       "Pekerjaan                                 NaN\n",
       "Jenis Kelamin                           Laki2\n",
       "Keuntungan Kapital                          0\n",
       "Kerugian Capital                            0\n",
       "Jam per Minggu                             40\n",
       "Gaji                                    <=7jt\n",
       "Name: 8, dtype: object"
      ]
     },
     "metadata": {},
     "output_type": "display_data"
    }
   ],
   "source": [
    "display(data_train.iloc[8])"
   ]
  },
  {
   "cell_type": "code",
   "execution_count": 4,
   "metadata": {},
   "outputs": [
    {
     "data": {
      "text/plain": [
       "Perbaikan Kerajinan      1205\n",
       "Ekesekutif Managerial    1188\n",
       "Spesialis                1142\n",
       "Pemuka Agama             1112\n",
       "Sales                    1079\n",
       "Servis Lainnya            982\n",
       "Mesin Inspeksi            590\n",
       "Supir                     458\n",
       "Pembersih                 398\n",
       "Petani                    316\n",
       "Tech-support              301\n",
       "Penjaga                   228\n",
       "Asisten Rumah Tangga       43\n",
       "Tentara                     3\n",
       "Name: Pekerjaan, dtype: int64"
      ]
     },
     "execution_count": 4,
     "metadata": {},
     "output_type": "execute_result"
    }
   ],
   "source": [
    "data_test['Pekerjaan'].value_counts()"
   ]
  },
  {
   "cell_type": "code",
   "execution_count": 5,
   "metadata": {},
   "outputs": [
    {
     "data": {
      "text/plain": [
       "Wiraswasta                       6714\n",
       "Pekerja Bebas Bukan Perusahan     732\n",
       "Pemerintah Lokal                  624\n",
       "Pemerintah Negara                 376\n",
       "Pekerja Bebas Perusahaan          316\n",
       "Pemerintah Provinsi               279\n",
       "Tanpa di Bayar                      4\n",
       "Tidak Pernah Bekerja                2\n",
       "Name: Kelas Pekerja, dtype: int64"
      ]
     },
     "execution_count": 5,
     "metadata": {},
     "output_type": "execute_result"
    }
   ],
   "source": [
    "data_test['Kelas Pekerja'].value_counts()"
   ]
  },
  {
   "cell_type": "code",
   "execution_count": 6,
   "metadata": {},
   "outputs": [],
   "source": [
    "data_train['Pekerjaan'] = data_train['Pekerjaan'].fillna('Spesialis')\n",
    "data_train['Kelas Pekerja'] = data_train['Kelas Pekerja'].fillna('Wiraswasta')\n",
    "\n",
    "data_test['Pekerjaan'] = data_test['Pekerjaan'].fillna('Perbaikan Kerajinan')\n",
    "data_test['Kelas Pekerja'] = data_test['Kelas Pekerja'].fillna('Wiraswasta')"
   ]
  },
  {
   "cell_type": "code",
   "execution_count": 7,
   "metadata": {},
   "outputs": [],
   "source": [
    "x_train = data_train.drop('Gaji', axis=1)\n",
    "y_train = data_train['Gaji']"
   ]
  },
  {
   "cell_type": "code",
   "execution_count": 8,
   "metadata": {},
   "outputs": [],
   "source": [
    "obj_dict = {\n",
    "    '<=7jt':0,\n",
    "    '>7jt':1\n",
    "}\n",
    "y_train_convert = y_train.replace(obj_dict)\n",
    "x_train_convert = pd.get_dummies(x_train, columns=['Kelas Pekerja', 'Status Perkawinan', 'Pekerjaan', 'Jenis Kelamin'])"
   ]
  },
  {
   "cell_type": "code",
   "execution_count": 9,
   "metadata": {},
   "outputs": [],
   "source": [
    "obj_dict2 = {\n",
    "    'SD':0,\n",
    "    '1st-4th':1,\n",
    "    '5th-6th':2,\n",
    "    '7th-8th':3,\n",
    "    '9th':4,\n",
    "    '10th':5,\n",
    "    '11th':6,\n",
    "    '12th':7,\n",
    "    'SMA':8,\n",
    "    'Pendidikan Tinggi':9,\n",
    "    'D4':10,\n",
    "    'D3':11,\n",
    "    'Sarjana':12,\n",
    "    'Master':13,\n",
    "    'Sekolah Professional':14,\n",
    "    'Doktor':15, \n",
    "}"
   ]
  },
  {
   "cell_type": "code",
   "execution_count": 10,
   "metadata": {},
   "outputs": [],
   "source": [
    "x_train_convert['Pendidikan'] = x_train['Pendidikan'].replace(obj_dict2)\n"
   ]
  },
  {
   "cell_type": "code",
   "execution_count": 11,
   "metadata": {},
   "outputs": [],
   "source": [
    "data_test_convert = pd.get_dummies(data_test, columns=['Kelas Pekerja', 'Status Perkawinan', 'Pekerjaan', 'Jenis Kelamin'])\n",
    "data_test_convert['Pendidikan'] = data_test['Pendidikan'].replace(obj_dict2)"
   ]
  },
  {
   "cell_type": "code",
   "execution_count": 12,
   "metadata": {},
   "outputs": [],
   "source": [
    "# data standardization with  sklearn\n",
    "from sklearn.preprocessing import StandardScaler\n",
    "\n",
    "# copy of datasets\n",
    "X_train_stand = x_train_convert.copy()\n",
    "X_test_stand = data_test_convert.copy()\n",
    "\n",
    "# numerical features\n",
    "num_cols = ['id','Umur','Berat Akhir','Pendidikan','Jmlh Tahun Pendidikan','Keuntungan Kapital','Kerugian Capital','Jam per Minggu']\n",
    "\n",
    "# apply standardization on numerical features\n",
    "for i in num_cols:\n",
    "    \n",
    "    # fit on training data column\n",
    "    scale = StandardScaler().fit(X_train_stand[[i]])\n",
    "    \n",
    "    # transform the training data column\n",
    "    X_train_stand[i] = scale.transform(X_train_stand[[i]])\n",
    "    \n",
    "    # transform the testing data column\n",
    "    X_test_stand[i] = scale.transform(X_test_stand[[i]])"
   ]
  },
  {
   "cell_type": "code",
   "execution_count": 13,
   "metadata": {},
   "outputs": [],
   "source": [
    "# training a KNN model\n",
    "from sklearn.neighbors import KNeighborsRegressor\n",
    "# measuring RMSE score\n",
    "from sklearn.metrics import mean_squared_error\n",
    "\n",
    "# knn \n",
    "knn = KNeighborsRegressor(n_neighbors=57, weights='uniform')\n",
    "\n",
    "\n",
    "# raw, normalized and standardized training and testing data\n",
    "#trainX = [X_train, X_train_norm, X_train_stand]\n",
    "#testX = [X_test, X_test_norm, X_test_stand]\n",
    "\n",
    "# model fitting and measuring RMSE\n",
    "#for i in range(len(trainX)):\n",
    "    \n",
    "    # fit\n",
    "knn.fit(X_train_stand, y_train_convert)\n",
    "    # predict\n",
    "pred = knn.predict(X_test_stand)"
   ]
  },
  {
   "cell_type": "code",
   "execution_count": 56,
   "metadata": {},
   "outputs": [
    {
     "data": {
      "text/plain": [
       "array([0.        , 0.14814815, 0.55555556, ..., 0.        , 0.        ,\n",
       "       0.11111111])"
      ]
     },
     "execution_count": 56,
     "metadata": {},
     "output_type": "execute_result"
    }
   ],
   "source": [
    "pred"
   ]
  },
  {
   "cell_type": "code",
   "execution_count": 57,
   "metadata": {},
   "outputs": [],
   "source": [
    "import numpy as np\n",
    "pred2 = np.round(pred, 0)"
   ]
  },
  {
   "cell_type": "code",
   "execution_count": 58,
   "metadata": {},
   "outputs": [
    {
     "data": {
      "text/plain": [
       "array([0., 0., 1., ..., 0., 0., 0.])"
      ]
     },
     "execution_count": 58,
     "metadata": {},
     "output_type": "execute_result"
    }
   ],
   "source": [
    "pred2"
   ]
  },
  {
   "cell_type": "code",
   "execution_count": 59,
   "metadata": {},
   "outputs": [],
   "source": [
    "pred3 = pred2.astype(int)"
   ]
  },
  {
   "cell_type": "code",
   "execution_count": 60,
   "metadata": {},
   "outputs": [],
   "source": [
    "data_test_id = data_test['id']\n",
    "hasil_prediksi = pd.DataFrame(pred3, columns=['Gaji']) \n",
    "\n",
    "list_dataframe = [data_test_id, hasil_prediksi]\n",
    "# gabungkan data dengan metode concat dari pandas\n",
    "hasil_akhir = pd.concat(list_dataframe, axis=1, ignore_index=True)\n",
    "\n",
    "hasil_akhir.columns = ['id','Gaji']"
   ]
  },
  {
   "cell_type": "code",
   "execution_count": 61,
   "metadata": {},
   "outputs": [],
   "source": [
    "hasil_akhir.to_csv('percobaan9.csv', index=False)"
   ]
  },
  {
   "cell_type": "code",
   "execution_count": null,
   "metadata": {},
   "outputs": [],
   "source": []
  },
  {
   "cell_type": "code",
   "execution_count": 13,
   "metadata": {},
   "outputs": [
    {
     "data": {
      "text/plain": [
       "DecisionTreeRegressor(max_depth=5, min_samples_leaf=0.1, random_state=3)"
      ]
     },
     "execution_count": 13,
     "metadata": {},
     "output_type": "execute_result"
    }
   ],
   "source": [
    "from sklearn.tree import DecisionTreeRegressor\n",
    "from sklearn import tree\n",
    "\n",
    "#x_reshape = x.reshape(-1, 1)\n",
    "#x_new = x_new.reshape(-1, 1)\n",
    "\n",
    "model = DecisionTreeRegressor(max_depth=5, min_samples_leaf=0.1, random_state=3)\n",
    "model.fit(X_train_stand, y_train_convert)"
   ]
  },
  {
   "cell_type": "code",
   "execution_count": 14,
   "metadata": {},
   "outputs": [],
   "source": [
    "y_test = model.predict(X_test_stand)"
   ]
  },
  {
   "cell_type": "code",
   "execution_count": 20,
   "metadata": {},
   "outputs": [],
   "source": [
    "y_test = np.round(y_test, 0)\n",
    "y_test = y_test.astype(int)"
   ]
  },
  {
   "cell_type": "code",
   "execution_count": 21,
   "metadata": {},
   "outputs": [
    {
     "data": {
      "text/plain": [
       "array([0, 0, 0, ..., 0, 0, 0])"
      ]
     },
     "execution_count": 21,
     "metadata": {},
     "output_type": "execute_result"
    }
   ],
   "source": [
    "y_test"
   ]
  },
  {
   "cell_type": "code",
   "execution_count": 22,
   "metadata": {},
   "outputs": [],
   "source": [
    "data_test_id = data_test['id']\n",
    "hasil_prediksi = pd.DataFrame(y_test, columns=['Gaji']) \n",
    "\n",
    "list_dataframe = [data_test_id, hasil_prediksi]\n",
    "# gabungkan data dengan metode concat dari pandas\n",
    "hasil_akhir = pd.concat(list_dataframe, axis=1, ignore_index=True)\n",
    "\n",
    "hasil_akhir.columns = ['id','Gaji']"
   ]
  },
  {
   "cell_type": "code",
   "execution_count": 23,
   "metadata": {},
   "outputs": [],
   "source": [
    "hasil_akhir.to_csv('percobaan6.csv', index=False)"
   ]
  },
  {
   "cell_type": "code",
   "execution_count": null,
   "metadata": {},
   "outputs": [],
   "source": []
  }
 ],
 "metadata": {
  "kernelspec": {
   "display_name": "Python 3",
   "language": "python",
   "name": "python3"
  },
  "language_info": {
   "codemirror_mode": {
    "name": "ipython",
    "version": 3
   },
   "file_extension": ".py",
   "mimetype": "text/x-python",
   "name": "python",
   "nbconvert_exporter": "python",
   "pygments_lexer": "ipython3",
   "version": "3.8.3"
  }
 },
 "nbformat": 4,
 "nbformat_minor": 4
}
